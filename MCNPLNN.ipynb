{
 "cells": [
  {
   "cell_type": "code",
   "execution_count": 1,
   "id": "eac7ba94",
   "metadata": {},
   "outputs": [],
   "source": [
    "from nltk.tokenize import word_tokenize\n",
    "import re\n",
    "\n",
    "\"\"\"\n",
    "This function reads text from a file and returns a list of cleaned words.\n",
    "    @param file_path: A string representing the path to the file to be read.\n",
    "    @return: A list of cleaned words extracted from the file.\n",
    "\"\"\"\n",
    "def read_and_clean_text(file_path: str) -> list:\n",
    "    with open(file_path, encoding=\"utf-8\") as f:\n",
    "        return [w.lower() for l in (r.strip() for r in f) if l for w in word_tokenize(re.sub(r\"[^\\w\\s\\a(){}-]\", \"\", l))]\n",
    "\n",
    "clear_text = read_and_clean_text(\"./text.txt\")"
   ]
  },
  {
   "cell_type": "code",
   "execution_count": 2,
   "id": "0fe7d1be",
   "metadata": {},
   "outputs": [],
   "source": [
    "\"\"\"\n",
    "This function creates a Markov's Chain model from a list of cleaned words.\n",
    "    @param clear_text: A list of cleaned words to be used as the basis for the model.\n",
    "    @param n_gram: An integer representing the number of words in each state. Default value is 3.\n",
    "    @return: A dictionary representing the Markov's Chain model.\n",
    "\"\"\"\n",
    "def make_MCModel(clear_text: list, n_gram: int = 3) -> dict:\n",
    "    MCModel = {}\n",
    "    for i in range(len(clear_text) - (n_gram<<1)+1):\n",
    "        curr_state, next_state = \" \".join(clear_text[i:i + n_gram]), \" \".join(clear_text[i + n_gram:i + (n_gram<<1)])\n",
    "        MCModel.setdefault(curr_state, {}).setdefault(next_state, 0)\n",
    "        MCModel[curr_state][next_state] += 1\n",
    "    \n",
    "    # relative frequency\n",
    "    for curr_state, transition in MCModel.items():\n",
    "        total_neighbours = sum(transition.values())\n",
    "        MCModel[curr_state] = {state: count / total_neighbours for state, count in transition.items()}\n",
    "\n",
    "    return MCModel"
   ]
  },
  {
   "cell_type": "code",
   "execution_count": 3,
   "id": "9386b27d",
   "metadata": {
    "scrolled": true
   },
   "outputs": [
    {
     "name": "stdout",
     "output_type": "stream",
     "text": [
      "кількість параметрів: 3881\n"
     ]
    }
   ],
   "source": [
    "MCModel = make_MCModel(clear_text)\n",
    "print(f\"кількість параметрів: {len(MCModel.keys()) + sum(len(i) for i in MCModel.values())}\")"
   ]
  },
  {
   "cell_type": "code",
   "execution_count": 4,
   "id": "06e2667c",
   "metadata": {},
   "outputs": [],
   "source": [
    "import random as rnd\n",
    "\n",
    "\"\"\"\n",
    "This function generates a string of text based on a Markov chain model.\n",
    "    @param MCModel: A dictionary representing the Markov chain model to be used for text generation.\n",
    "    @param limit: An integer representing the maximum tokens in the generated text. Default value is 30.\n",
    "    @param start: A string representing the initial state to begin text generation. Default value is \"для вашого організму\".\n",
    "    @return: A processed string of generated text.\n",
    "\"\"\"\n",
    "def generate_text(MCModel: dict, limit: int = 30, start: str=\"для вашого організму\") -> str:\n",
    "    res = [start]\n",
    "    for _ in range(limit):\n",
    "        res.append(rnd.choices(list(MCModel[res[-1]]), list(MCModel[res[-1]].values()))[0])\n",
    "    return (\" \".join(res) + \".\").capitalize().replace(\" якщо \", \", якщо \").replace(\" для \", \". Для \").replace(\" під \", \". Під \").replace(\" вживання після \", \". Вживання після \").replace(\" вживання передтренувальних \", \". Вживання передтренувальних \")"
   ]
  },
  {
   "cell_type": "code",
   "execution_count": 5,
   "id": "de894a63",
   "metadata": {
    "scrolled": true
   },
   "outputs": [],
   "source": [
    "import time\n",
    "\n",
    "def do_magic() -> type(None):\n",
    "    str_r = generate_text(MCModel)\n",
    "    for i in str_r.split():\n",
    "        time.sleep(.05*rnd.randint(0, 15))\n",
    "        print(i, end=\" \")"
   ]
  },
  {
   "cell_type": "code",
   "execution_count": 7,
   "id": "3a24047f",
   "metadata": {
    "scrolled": false
   },
   "outputs": [
    {
     "name": "stdout",
     "output_type": "stream",
     "text": [
      "Для вашого організму краще почати пити 200 мл води вранці щоб залишатися гідратованим і підготувати організм до фізичної активності протягом дня, якщо ви хочете підвищити рівень енергії та покращити продуктивність гідратація є ключовим фактором. Під час тренування і вживання води або спортивних напоїв через регулярні проміжки часу може допомогти підтримувати рівень гідратації та запобігти втомі. Для спортсменів які займаються високоінтенсивними тренуваннями вживання післятренувальних добавок що містять куркумін може допомогти зменшити біль у мязах. Вживання передтренувальних добавок що містять аргінін може допомогти покращити кровообіг та посилити метаболізм у мязах спортсменам які займаються високоінтенсивними тренуваннями. "
     ]
    }
   ],
   "source": [
    "do_magic()"
   ]
  }
 ],
 "metadata": {
  "kernelspec": {
   "display_name": "Python 3 (ipykernel)",
   "language": "python",
   "name": "python3"
  },
  "language_info": {
   "codemirror_mode": {
    "name": "ipython",
    "version": 3
   },
   "file_extension": ".py",
   "mimetype": "text/x-python",
   "name": "python",
   "nbconvert_exporter": "python",
   "pygments_lexer": "ipython3",
   "version": "3.9.13"
  }
 },
 "nbformat": 4,
 "nbformat_minor": 5
}
